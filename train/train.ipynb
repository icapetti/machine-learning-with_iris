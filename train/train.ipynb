{
 "metadata": {
  "language_info": {
   "codemirror_mode": {
    "name": "ipython",
    "version": 3
   },
   "file_extension": ".py",
   "mimetype": "text/x-python",
   "name": "python",
   "nbconvert_exporter": "python",
   "pygments_lexer": "ipython3",
   "version": "3.8.5-final"
  },
  "orig_nbformat": 2,
  "kernelspec": {
   "name": "python3",
   "display_name": "Python 3.8.5 64-bit",
   "metadata": {
    "interpreter": {
     "hash": "31f2aee4e71d21fbe5cf8b01ff0e069b9275f58929596ceb00d14d90e3e16cd6"
    }
   }
  }
 },
 "nbformat": 4,
 "nbformat_minor": 2,
 "cells": [
  {
   "cell_type": "code",
   "execution_count": null,
   "metadata": {},
   "outputs": [],
   "source": [
    "# Based on: medium.com/@dspaulolima/data-science-para-iniciantes-iris-ec17b205f0d6"
   ]
  },
  {
   "cell_type": "code",
   "execution_count": 1,
   "metadata": {},
   "outputs": [],
   "source": [
    "import pandas as pd"
   ]
  },
  {
   "cell_type": "code",
   "execution_count": 2,
   "metadata": {},
   "outputs": [],
   "source": [
    "iris = pd.read_csv('iris_transformed', sep=',')\n",
    "iris.drop('species', inplace=True, axis=1)"
   ]
  },
  {
   "cell_type": "code",
   "execution_count": 3,
   "metadata": {},
   "outputs": [
    {
     "output_type": "execute_result",
     "data": {
      "text/plain": [
       "   sepal_lenght  sepal_width  petal_lenght  petal_width  species_code\n",
       "0           5.1          3.5           1.4          0.2             0\n",
       "1           4.9          3.0           1.4          0.2             0\n",
       "2           4.7          3.2           1.3          0.2             0\n",
       "3           4.6          3.1           1.5          0.2             0\n",
       "4           5.0          3.6           1.4          0.2             0"
      ],
      "text/html": "<div>\n<style scoped>\n    .dataframe tbody tr th:only-of-type {\n        vertical-align: middle;\n    }\n\n    .dataframe tbody tr th {\n        vertical-align: top;\n    }\n\n    .dataframe thead th {\n        text-align: right;\n    }\n</style>\n<table border=\"1\" class=\"dataframe\">\n  <thead>\n    <tr style=\"text-align: right;\">\n      <th></th>\n      <th>sepal_lenght</th>\n      <th>sepal_width</th>\n      <th>petal_lenght</th>\n      <th>petal_width</th>\n      <th>species_code</th>\n    </tr>\n  </thead>\n  <tbody>\n    <tr>\n      <th>0</th>\n      <td>5.1</td>\n      <td>3.5</td>\n      <td>1.4</td>\n      <td>0.2</td>\n      <td>0</td>\n    </tr>\n    <tr>\n      <th>1</th>\n      <td>4.9</td>\n      <td>3.0</td>\n      <td>1.4</td>\n      <td>0.2</td>\n      <td>0</td>\n    </tr>\n    <tr>\n      <th>2</th>\n      <td>4.7</td>\n      <td>3.2</td>\n      <td>1.3</td>\n      <td>0.2</td>\n      <td>0</td>\n    </tr>\n    <tr>\n      <th>3</th>\n      <td>4.6</td>\n      <td>3.1</td>\n      <td>1.5</td>\n      <td>0.2</td>\n      <td>0</td>\n    </tr>\n    <tr>\n      <th>4</th>\n      <td>5.0</td>\n      <td>3.6</td>\n      <td>1.4</td>\n      <td>0.2</td>\n      <td>0</td>\n    </tr>\n  </tbody>\n</table>\n</div>"
     },
     "metadata": {},
     "execution_count": 3
    }
   ],
   "source": [
    "iris.head()"
   ]
  },
  {
   "source": [
    "## We want to discover species and this is a classification problem.\n",
    "## So, we're going to use four models and compare then: SVM, Logistic Regression, KNN and Decision Tree."
   ],
   "cell_type": "code",
   "metadata": {},
   "execution_count": null,
   "outputs": []
  },
  {
   "cell_type": "code",
   "execution_count": 4,
   "metadata": {},
   "outputs": [],
   "source": [
    "# Models to test and compare\n",
    "from sklearn.linear_model import LogisticRegression\n",
    "from sklearn.neighbors import KNeighborsClassifier\n",
    "from sklearn import svm\n",
    "from sklearn.tree import DecisionTreeClassifier\n",
    "\n",
    "# Training-test division\n",
    "from sklearn.model_selection import train_test_split\n",
    "\n",
    "# Performance and comparison metrics\n",
    "from sklearn import metrics"
   ]
  },
  {
   "cell_type": "code",
   "execution_count": 5,
   "metadata": {},
   "outputs": [
    {
     "output_type": "stream",
     "name": "stdout",
     "text": [
      "Predictors:\n     sepal_lenght  sepal_width  petal_lenght  petal_width\n10            5.4          3.7           1.5          0.2\n40            5.0          3.5           1.3          0.3\n60            5.0          2.0           3.5          1.0\n80            5.5          2.4           3.8          1.1\n100           6.3          3.3           6.0          2.5\n101           5.8          2.7           5.1          1.9\n\nTarget:\n10     0\n40     0\n60     1\n80     1\n100    2\n101    2\nName: species_code, dtype: int64\n"
     ]
    }
   ],
   "source": [
    "# We need to separate the target and predictor variables for testing and trainig purposes\n",
    "predictors = iris.iloc[:,:-1]\n",
    "target = iris['species_code']\n",
    "\n",
    "print('Predictors:')\n",
    "print(predictors.iloc[[10,40,60,80,100,101]])\n",
    "print('\\nTarget:')\n",
    "print(target.iloc[[10,40,60,80,100,101]])"
   ]
  },
  {
   "cell_type": "code",
   "execution_count": 6,
   "metadata": {},
   "outputs": [
    {
     "output_type": "stream",
     "name": "stdout",
     "text": [
      "Training data - 70%:  (105, 4) (105,)\nTesting data - 30%:  (45, 4) (45,)\n"
     ]
    }
   ],
   "source": [
    "# Dataset division: 30% test and 70% training\n",
    "x_train, x_test, y_train, y_test = train_test_split(predictors, target, test_size=0.3)\n",
    "\n",
    "print('Training data - 70%: ', x_train.shape, y_train.shape)\n",
    "print('Testing data - 30%: ', x_test.shape, y_test.shape)"
   ]
  },
  {
   "source": [
    "## Model 1: SVM - Support Vector Machine"
   ],
   "cell_type": "markdown",
   "metadata": {}
  },
  {
   "cell_type": "code",
   "execution_count": 8,
   "metadata": {},
   "outputs": [
    {
     "output_type": "stream",
     "name": "stdout",
     "text": [
      "Accuracy:  0.9555555555555556\n"
     ]
    }
   ],
   "source": [
    "svm_model = svm.SVC(kernel='linear', C=1)\n",
    "svm_fit = svm_model.fit(x_train, y_train)\n",
    "svm_prediction = svm_fit.predict(x_test)\n",
    "\n",
    "svm_metric = metrics.accuracy_score(svm_prediction, y_test)\n",
    "print('Accuracy: ', svm_metric)"
   ]
  },
  {
   "cell_type": "code",
   "execution_count": 19,
   "metadata": {},
   "outputs": [
    {
     "output_type": "execute_result",
     "data": {
      "text/plain": [
       "                     setosa_predicted  versicolor_predicted  \\\n",
       "setosa_original                    15                     0   \n",
       "versicolor_original                 0                    12   \n",
       "virginica_original                  0                     1   \n",
       "\n",
       "                     virginica_predicted  \n",
       "setosa_original                        0  \n",
       "versicolor_original                    1  \n",
       "virginica_original                    16  "
      ],
      "text/html": "<div>\n<style scoped>\n    .dataframe tbody tr th:only-of-type {\n        vertical-align: middle;\n    }\n\n    .dataframe tbody tr th {\n        vertical-align: top;\n    }\n\n    .dataframe thead th {\n        text-align: right;\n    }\n</style>\n<table border=\"1\" class=\"dataframe\">\n  <thead>\n    <tr style=\"text-align: right;\">\n      <th></th>\n      <th>setosa_predicted</th>\n      <th>versicolor_predicted</th>\n      <th>virginica_predicted</th>\n    </tr>\n  </thead>\n  <tbody>\n    <tr>\n      <th>setosa_original</th>\n      <td>15</td>\n      <td>0</td>\n      <td>0</td>\n    </tr>\n    <tr>\n      <th>versicolor_original</th>\n      <td>0</td>\n      <td>12</td>\n      <td>1</td>\n    </tr>\n    <tr>\n      <th>virginica_original</th>\n      <td>0</td>\n      <td>1</td>\n      <td>16</td>\n    </tr>\n  </tbody>\n</table>\n</div>"
     },
     "metadata": {},
     "execution_count": 19
    }
   ],
   "source": [
    "# Confusion matrix: to verify the correctness and erros in the prediction, comparing it with the original target\n",
    "pd.DataFrame(metrics.confusion_matrix(y_test, svm_prediction, labels=[0,1,2])\n",
    "            ,columns=['setosa_predicted', 'versicolor_predicted', 'virginica_predicted']\n",
    "            ,index=['setosa_original', 'versicolor_original', 'virginica_original'])"
   ]
  },
  {
   "source": [
    "## Only one versicolor was predicted as virginica, that is 97% of accuracy."
   ],
   "cell_type": "markdown",
   "metadata": {}
  },
  {
   "source": [
    "## Model 2 - Logistic Regression"
   ],
   "cell_type": "markdown",
   "metadata": {}
  },
  {
   "cell_type": "code",
   "execution_count": 10,
   "metadata": {},
   "outputs": [
    {
     "output_type": "stream",
     "name": "stdout",
     "text": [
      "Accuracy:  0.9777777777777777\n"
     ]
    }
   ],
   "source": [
    "lr_model = LogisticRegression()\n",
    "lr_fit = lr_model.fit(x_train, y_train)\n",
    "lr_prediction = lr_fit.predict(x_test)\n",
    "\n",
    "lr_metric = metrics.accuracy_score(lr_prediction, y_test)\n",
    "print('Accuracy: ', lr_metric)"
   ]
  },
  {
   "cell_type": "code",
   "execution_count": 11,
   "metadata": {},
   "outputs": [
    {
     "output_type": "execute_result",
     "data": {
      "text/plain": [
       "                     setosa_predicted  versicolor_predicted  \\\n",
       "setosa_original                    19                     0   \n",
       "versicolor_original                 0                    14   \n",
       "virginica_original                  0                     0   \n",
       "\n",
       "                     virginica_predicted  \n",
       "setosa_original                        0  \n",
       "versicolor_original                    1  \n",
       "virginica_original                    11  "
      ],
      "text/html": "<div>\n<style scoped>\n    .dataframe tbody tr th:only-of-type {\n        vertical-align: middle;\n    }\n\n    .dataframe tbody tr th {\n        vertical-align: top;\n    }\n\n    .dataframe thead th {\n        text-align: right;\n    }\n</style>\n<table border=\"1\" class=\"dataframe\">\n  <thead>\n    <tr style=\"text-align: right;\">\n      <th></th>\n      <th>setosa_predicted</th>\n      <th>versicolor_predicted</th>\n      <th>virginica_predicted</th>\n    </tr>\n  </thead>\n  <tbody>\n    <tr>\n      <th>setosa_original</th>\n      <td>19</td>\n      <td>0</td>\n      <td>0</td>\n    </tr>\n    <tr>\n      <th>versicolor_original</th>\n      <td>0</td>\n      <td>14</td>\n      <td>1</td>\n    </tr>\n    <tr>\n      <th>virginica_original</th>\n      <td>0</td>\n      <td>0</td>\n      <td>11</td>\n    </tr>\n  </tbody>\n</table>\n</div>"
     },
     "metadata": {},
     "execution_count": 11
    }
   ],
   "source": [
    "pd.DataFrame(metrics.confusion_matrix(y_test, lr_prediction, labels=[0,1,2])\n",
    "            ,columns=['setosa_predicted', 'versicolor_predicted', 'virginica_predicted']\n",
    "            ,index=['setosa_original', 'versicolor_original', 'virginica_original'])"
   ]
  },
  {
   "source": [
    "## Only one versicolor was predicted as virginica, that is 97% of accuracy."
   ],
   "cell_type": "markdown",
   "metadata": {}
  },
  {
   "source": [
    "## Model 3 - Decision Tree"
   ],
   "cell_type": "markdown",
   "metadata": {}
  },
  {
   "cell_type": "code",
   "execution_count": 18,
   "metadata": {},
   "outputs": [
    {
     "output_type": "stream",
     "name": "stdout",
     "text": [
      "Accuracy:  0.9333333333333333\n"
     ]
    }
   ],
   "source": [
    "dt_model = DecisionTreeClassifier()\n",
    "dt_fit = dt_model.fit(x_train, y_train)\n",
    "dt_prediction = dt_fit.predict(x_test)\n",
    "\n",
    "dt_metric = metrics.accuracy_score(dt_prediction, y_test)\n",
    "print('Accuracy: ', dt_metric)"
   ]
  },
  {
   "cell_type": "code",
   "execution_count": 14,
   "metadata": {},
   "outputs": [
    {
     "output_type": "execute_result",
     "data": {
      "text/plain": [
       "                     setosa_predicted  versicolor_predicted  \\\n",
       "setosa_original                    19                     0   \n",
       "versicolor_original                 0                    14   \n",
       "virginica_original                  0                     1   \n",
       "\n",
       "                     virginica_predicted  \n",
       "setosa_original                        0  \n",
       "versicolor_original                    1  \n",
       "virginica_original                    10  "
      ],
      "text/html": "<div>\n<style scoped>\n    .dataframe tbody tr th:only-of-type {\n        vertical-align: middle;\n    }\n\n    .dataframe tbody tr th {\n        vertical-align: top;\n    }\n\n    .dataframe thead th {\n        text-align: right;\n    }\n</style>\n<table border=\"1\" class=\"dataframe\">\n  <thead>\n    <tr style=\"text-align: right;\">\n      <th></th>\n      <th>setosa_predicted</th>\n      <th>versicolor_predicted</th>\n      <th>virginica_predicted</th>\n    </tr>\n  </thead>\n  <tbody>\n    <tr>\n      <th>setosa_original</th>\n      <td>19</td>\n      <td>0</td>\n      <td>0</td>\n    </tr>\n    <tr>\n      <th>versicolor_original</th>\n      <td>0</td>\n      <td>14</td>\n      <td>1</td>\n    </tr>\n    <tr>\n      <th>virginica_original</th>\n      <td>0</td>\n      <td>1</td>\n      <td>10</td>\n    </tr>\n  </tbody>\n</table>\n</div>"
     },
     "metadata": {},
     "execution_count": 14
    }
   ],
   "source": [
    "pd.DataFrame(metrics.confusion_matrix(y_test, dt_prediction, labels=[0,1,2])\n",
    "            ,columns=['setosa_predicted', 'versicolor_predicted', 'virginica_predicted']\n",
    "            ,index=['setosa_original', 'versicolor_original', 'virginica_original'])"
   ]
  },
  {
   "source": [
    "## One versicolor was predicted as virginica and one virginica was predicted as versicolor, so, we have 95% accurary."
   ],
   "cell_type": "markdown",
   "metadata": {}
  },
  {
   "source": [
    "## Model 4 - KNN - K-Nearst Neighbor"
   ],
   "cell_type": "markdown",
   "metadata": {}
  },
  {
   "cell_type": "code",
   "execution_count": 15,
   "metadata": {},
   "outputs": [
    {
     "output_type": "stream",
     "name": "stdout",
     "text": [
      "Accuracy:  0.9333333333333333\n"
     ]
    }
   ],
   "source": [
    "knn_model = KNeighborsClassifier()\n",
    "knn_fit = knn_model.fit(x_train, y_train)\n",
    "knn_prediction = knn_fit.predict(x_test)\n",
    "\n",
    "knn_metric = metrics.accuracy_score(knn_prediction, y_test)\n",
    "print('Accuracy: ', knn_metric)"
   ]
  },
  {
   "cell_type": "code",
   "execution_count": 16,
   "metadata": {},
   "outputs": [
    {
     "output_type": "execute_result",
     "data": {
      "text/plain": [
       "                     setosa_predicted  versicolor_predicted  \\\n",
       "setosa_original                    19                     0   \n",
       "versicolor_original                 0                    12   \n",
       "virginica_original                  0                     0   \n",
       "\n",
       "                     virginica_predicted  \n",
       "setosa_original                        0  \n",
       "versicolor_original                    3  \n",
       "virginica_original                    11  "
      ],
      "text/html": "<div>\n<style scoped>\n    .dataframe tbody tr th:only-of-type {\n        vertical-align: middle;\n    }\n\n    .dataframe tbody tr th {\n        vertical-align: top;\n    }\n\n    .dataframe thead th {\n        text-align: right;\n    }\n</style>\n<table border=\"1\" class=\"dataframe\">\n  <thead>\n    <tr style=\"text-align: right;\">\n      <th></th>\n      <th>setosa_predicted</th>\n      <th>versicolor_predicted</th>\n      <th>virginica_predicted</th>\n    </tr>\n  </thead>\n  <tbody>\n    <tr>\n      <th>setosa_original</th>\n      <td>19</td>\n      <td>0</td>\n      <td>0</td>\n    </tr>\n    <tr>\n      <th>versicolor_original</th>\n      <td>0</td>\n      <td>12</td>\n      <td>3</td>\n    </tr>\n    <tr>\n      <th>virginica_original</th>\n      <td>0</td>\n      <td>0</td>\n      <td>11</td>\n    </tr>\n  </tbody>\n</table>\n</div>"
     },
     "metadata": {},
     "execution_count": 16
    }
   ],
   "source": [
    "pd.DataFrame(metrics.confusion_matrix(y_test, knn_prediction, labels=[0,1,2])\n",
    "            ,columns=['setosa_predicted', 'versicolor_predicted', 'virginica_predicted']\n",
    "            ,index=['setosa_original', 'versicolor_original', 'virginica_original'])"
   ]
  },
  {
   "source": [
    "## Three versicolor were predicted as virginica. So, we have 93% accuracy."
   ],
   "cell_type": "markdown",
   "metadata": {}
  },
  {
   "source": [
    "## Comparison of accuracy between models"
   ],
   "cell_type": "markdown",
   "metadata": {}
  },
  {
   "cell_type": "code",
   "execution_count": 17,
   "metadata": {},
   "outputs": [
    {
     "output_type": "stream",
     "name": "stdout",
     "text": [
      "Support Vector Machine:  0.978\nLogistic Regression:  0.978\nDecision Tree;  0.956\nKNeighbor;  0.933\n"
     ]
    }
   ],
   "source": [
    "print('Support Vector Machine: ', round(svm_metric,3))\n",
    "print('Logistic Regression: ', round(lr_metric,3))\n",
    "print('Decision Tree; ', round(dt_metric,3))\n",
    "print('KNeighbor; ', round(knn_metric,3))"
   ]
  },
  {
   "cell_type": "code",
   "execution_count": 18,
   "metadata": {},
   "outputs": [],
   "source": [
    "# We use pickle to export our model object as a binary, which can be used by the web service\n",
    "import pickle\n",
    "pickle.dump(svm_fit, open('../deploy/svm_model.pkl', 'wb'))"
   ]
  }
 ]
}